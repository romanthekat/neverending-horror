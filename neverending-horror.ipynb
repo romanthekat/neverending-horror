{
 "cells": [
  {
   "cell_type": "markdown",
   "metadata": {},
   "source": [
    "# Preparations"
   ]
  },
  {
   "cell_type": "code",
   "execution_count": 30,
   "metadata": {
    "ExecuteTime": {
     "end_time": "2023-05-01T14:40:04.669905Z",
     "start_time": "2023-05-01T14:40:04.568978Z"
    }
   },
   "outputs": [],
   "source": [
    "input_file = '/Users/rtk/projects/personal/neverending-horror/datasets/twosentencehorror.txt'"
   ]
  },
  {
   "cell_type": "markdown",
   "metadata": {},
   "source": [
    "# User Markov chains"
   ]
  },
  {
   "cell_type": "code",
   "execution_count": 31,
   "metadata": {
    "ExecuteTime": {
     "end_time": "2023-05-01T14:40:04.670677Z",
     "start_time": "2023-05-01T14:40:04.598232Z"
    }
   },
   "outputs": [],
   "source": [
    "import markovify"
   ]
  },
  {
   "cell_type": "code",
   "execution_count": 32,
   "metadata": {
    "ExecuteTime": {
     "end_time": "2023-05-01T14:40:04.781878Z",
     "start_time": "2023-05-01T14:40:04.618845Z"
    }
   },
   "outputs": [],
   "source": [
    "with open(input_file) as f:\n",
    "    text = f.read()"
   ]
  },
  {
   "cell_type": "code",
   "execution_count": 40,
   "metadata": {
    "ExecuteTime": {
     "end_time": "2023-05-01T14:47:08.768718Z",
     "start_time": "2023-05-01T14:47:06.711971Z"
    }
   },
   "outputs": [
    {
     "name": "stdout",
     "output_type": "stream",
     "text": [
      "The sailors rejoiced as the kraken retreated back into the depths of the earth - exactly in the shape of an enormous octopus.\n",
      "After all these years, I successfully time traveled back to 1999, and now I can feels his tongue slithering down my throat.\n",
      "My mother insisted that since I was starting to regret carrying all the shopping in one trip.\n",
      "The zombie apocalypse is actually happening, but it's not like she could understand my barking.\n",
      "I can hear it pounding on the glass and wrote the number 2.\n",
      "My fever was getting worse and worse.It was so bad that I would kill my own children for it.\n",
      "I competed an won on a nationally televised gameshow.I couldn't help but cry when she smiled, turned, and left the room.\n",
      "I think I have accepted that I’m the only child that stayed after all of my siblings disappeared.\n",
      "I clutched my innocent little daughter to me as I wait for the inevitable.\n",
      "With my parents away, my dog lays next to me in the wood.But I was more horrified when I saw the surgeon wearing them like gloves.\n",
      "My girlfriend just phoned me crying and begging me to get out of her appointment with the men waiting upstairs for her.\n",
      "One last chance to say goodbye.Even if leaving a note is the only way to protect the fetus in her womb.\n",
      "The pounding at the door grew louder, angrier, like whatever was on the other side.Sufficed to say, I was pretty uneasy for the rest of the fruit recoiled like an injured animal, I realized that it wasn’t a suicide.\n",
      "I built a successful time machine and traveled 5 minutes into the future.As I freeze to death again.\n",
      "I told the genie my last wish was to live as long as I can.\n",
      "My mum said the only way to keep her safe\n",
      "...her 5 month old baby boy, still strapped into his car seat, it amazes me how someone so sinister can sleep so peacefully.\n",
      "Due to the terms of the surrender, I had no choice but to kill her to eat her, he saw something that sickened him.Land\n",
      "With advances in AI, the first machine capable of *expressing* pain was created 30 years later.\n",
      "I told my sister that it was just her PTSD creating those stories.\n",
      "My mom started scolding me and saying that I have to live in a vegetative state and ready to be harvested.\n",
      "I felt a hair in my mouth.When I tried to pull it out, it started to slither and wiggle.\n",
      "A tree fell and no one was coming to rescue me.\n",
      "The zombie apocalypse is actually happening, but it's not like she could understand my barking.\n",
      "I knew the palm reader was the real deal when she told me about how infectious the disease killing him was.\n",
      "As I held the pillow over his face, but I thought nothing of it.\n",
      "With one last push, I managed to reach the surface of the hot bath.I smiled knowing my body would be next to enter those blood drenched jaws.\n",
      "Tears well up in my eyes as I walked out of the kitchen in tears because she lost her ring. finger\n",
      "I got sick and tired of the voices in my head keep telling me to make him laugh\n",
      "With a gun in hand, I felt brave as I entered the room.I felt so delighted that I went on a walk with my crush 🥰.She noticed me when we started jogging.\n",
      "I saw a woman who looked exactly like me already on my chair.\n",
      "I felt tears begin to run down my face as I noticed it also recommended bone saws.\n",
      "Not knowing how to swim and terrorized at the sight of a Purple and Black planet.\n",
      "I was ecstatic about the option to go back to the darkness with the other thought-parasites...\n",
      "After 18 years, humanity finally found hope to survive in this wasteland I still wonder if the cosmic waves will ever come\n",
      "My mom said I was the kind of a person paints their fingernails rust coloured anyways?\n",
      "Today I’m finally being realeased after spending 30 years in prison for the first victim.The second sentence wasn’t so great either.\n",
      "I looked at myself as a hero, as I continued to extract the giant tapeworm from his penis\n",
      "It's been 6 months since the crash but I can still feel these things crawling on my face.\n",
      "As the sound of the rain on my window, so I decided to burn all six of them today.It was when I heard the sound of his heartbeat.\n",
      "Happy children laughed as they pressed their face against the other side of the mirror trying to tell her I was trapped\n",
      "I'm on a killing spree at the fifth zombie now. But why are they all driving black SUVs with tinted windows?\n"
     ]
    }
   ],
   "source": [
    "text_model = markovify.NewlineText(text, state_size=4)\n",
    "\n",
    "generated = 0\n",
    "required = 42\n",
    "while True:\n",
    "    sentence = text_model.make_sentence(tries=42)\n",
    "    if sentence:\n",
    "        generated+=1\n",
    "        print(sentence)\n",
    "    \n",
    "    if generated == required:\n",
    "        break"
   ]
  },
  {
   "cell_type": "markdown",
   "metadata": {},
   "source": [
    "# Simple GPT-2"
   ]
  },
  {
   "cell_type": "code",
   "execution_count": 11,
   "metadata": {},
   "outputs": [],
   "source": [
    "#pip install tensorflow==1.15 gpt-2-simple"
   ]
  },
  {
   "cell_type": "code",
   "execution_count": 12,
   "metadata": {},
   "outputs": [
    {
     "name": "stdout",
     "output_type": "stream",
     "text": [
      "WARNING:tensorflow:\n",
      "The TensorFlow contrib module will not be included in TensorFlow 2.0.\n",
      "For more information, please see:\n",
      "  * https://github.com/tensorflow/community/blob/master/rfcs/20180907-contrib-sunset.md\n",
      "  * https://github.com/tensorflow/addons\n",
      "  * https://github.com/tensorflow/io (for I/O related ops)\n",
      "If you depend on functionality not listed there, please file an issue.\n",
      "\n"
     ]
    }
   ],
   "source": [
    "import gpt_2_simple as gpt2\n",
    "import os\n",
    "import requests\n",
    "\n",
    "model_name = \"124M\" #345M\n",
    "if not os.path.isdir(os.path.join(\"models\", model_name)):\n",
    "    print(f\"Downloading {model_name} model...\")\n",
    "    gpt2.download_gpt2(model_name=model_name)   # model is saved into current directory under /models/124M/"
   ]
  },
  {
   "cell_type": "code",
   "execution_count": 13,
   "metadata": {},
   "outputs": [],
   "source": [
    "sess = gpt2.start_tf_sess()\n",
    "#gpt2.load_gpt2(sess, run_name='run1')"
   ]
  },
  {
   "cell_type": "code",
   "execution_count": null,
   "metadata": {},
   "outputs": [],
   "source": [
    "gpt2.finetune(sess,\n",
    "              input_file,\n",
    "              model_name=model_name,\n",
    "              steps=10,\n",
    "              sample_every=3\n",
    "             )"
   ]
  },
  {
   "cell_type": "code",
   "execution_count": null,
   "metadata": {},
   "outputs": [],
   "source": [
    "gpt2.generate(sess,\n",
    "              length=200,\n",
    "              temperature=0.7,\n",
    "              #prefix=\"LORD\",\n",
    "              nsamples=3,\n",
    "              batch_size=3\n",
    "             )"
   ]
  },
  {
   "cell_type": "markdown",
   "metadata": {},
   "source": [
    "# RNN"
   ]
  },
  {
   "cell_type": "code",
   "execution_count": 17,
   "metadata": {},
   "outputs": [],
   "source": [
    "#from textgenrnn import textgenrnn"
   ]
  },
  {
   "cell_type": "code",
   "execution_count": 18,
   "metadata": {},
   "outputs": [],
   "source": [
    "#textgen = textgenrnn()\n",
    "#textgen.generate()"
   ]
  },
  {
   "cell_type": "code",
   "execution_count": 19,
   "metadata": {},
   "outputs": [],
   "source": [
    "#textgen.train_from_file(input_file, num_epochs=2)"
   ]
  },
  {
   "cell_type": "code",
   "execution_count": 20,
   "metadata": {},
   "outputs": [],
   "source": [
    "#print(textgen.generate(16))"
   ]
  }
 ],
 "metadata": {
  "kernelspec": {
   "display_name": "Python 3",
   "language": "python",
   "name": "python3"
  },
  "language_info": {
   "codemirror_mode": {
    "name": "ipython",
    "version": 3
   },
   "file_extension": ".py",
   "mimetype": "text/x-python",
   "name": "python",
   "nbconvert_exporter": "python",
   "pygments_lexer": "ipython3",
   "version": "3.7.7"
  }
 },
 "nbformat": 4,
 "nbformat_minor": 4
}
