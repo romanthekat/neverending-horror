{
 "cells": [
  {
   "cell_type": "markdown",
   "metadata": {},
   "source": [
    "# Parse raw posts"
   ]
  },
  {
   "cell_type": "code",
   "execution_count": 1,
   "metadata": {},
   "outputs": [],
   "source": [
    "import json"
   ]
  },
  {
   "cell_type": "code",
   "execution_count": 2,
   "metadata": {},
   "outputs": [],
   "source": [
    "output_file = 'twosentencehorror.txt'"
   ]
  },
  {
   "cell_type": "code",
   "execution_count": 3,
   "metadata": {},
   "outputs": [],
   "source": [
    "def parse_raw_json(raw_filename):\n",
    "    with open('twosentencehorror_raw_top.json') as f:\n",
    "        posts_json = json.load(f)\n",
    "\n",
    "    posts_raw = []\n",
    "    for post in posts_json['data']:\n",
    "        if \"title\" in post and \"selftext\" in post:\n",
    "            posts_raw.append(post['title'] + '. ' + post['selftext'])\n",
    "\n",
    "    return posts_raw"
   ]
  },
  {
   "cell_type": "code",
   "execution_count": 4,
   "metadata": {},
   "outputs": [],
   "source": [
    "def append_to_output(posts, filename):\n",
    "    with open(filename, 'a') as f:\n",
    "        for post in posts:\n",
    "            f.write(post + '\\n')"
   ]
  },
  {
   "cell_type": "code",
   "execution_count": 5,
   "metadata": {},
   "outputs": [],
   "source": [
    "append_to_output(parse_raw_json('twosentencehorror_raw_top.json'), output_file)"
   ]
  },
  {
   "cell_type": "code",
   "execution_count": 6,
   "metadata": {},
   "outputs": [],
   "source": [
    "append_to_output(parse_raw_json('twosentencehorror_raw_58.json'), output_file)"
   ]
  },
  {
   "cell_type": "markdown",
   "metadata": {},
   "source": [
    "# User Markov chains"
   ]
  },
  {
   "cell_type": "code",
   "execution_count": 7,
   "metadata": {},
   "outputs": [],
   "source": [
    "import markovify"
   ]
  },
  {
   "cell_type": "code",
   "execution_count": 8,
   "metadata": {},
   "outputs": [],
   "source": [
    "with open(output_file) as f:\n",
    "    text = f.read()"
   ]
  },
  {
   "cell_type": "code",
   "execution_count": null,
   "metadata": {},
   "outputs": [],
   "source": [
    "text_model = markovify.Text(text, state_size=4)\n",
    "\n",
    "generated = 0\n",
    "required = 42\n",
    "while True:\n",
    "    sentence = text_model.make_sentence()\n",
    "    if sentence:\n",
    "        generated+=1\n",
    "        print(sentence)\n",
    "    \n",
    "    if generated == required:\n",
    "        break"
   ]
  }
 ],
 "metadata": {
  "kernelspec": {
   "display_name": "Python 3",
   "language": "python",
   "name": "python3"
  },
  "language_info": {
   "codemirror_mode": {
    "name": "ipython",
    "version": 3
   },
   "file_extension": ".py",
   "mimetype": "text/x-python",
   "name": "python",
   "nbconvert_exporter": "python",
   "pygments_lexer": "ipython3",
   "version": "3.7.4"
  }
 },
 "nbformat": 4,
 "nbformat_minor": 4
}
