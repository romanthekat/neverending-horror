{
 "cells": [
  {
   "cell_type": "markdown",
   "metadata": {},
   "source": [
    "# Parse raw posts"
   ]
  },
  {
   "cell_type": "code",
   "execution_count": 1,
   "metadata": {},
   "outputs": [],
   "source": [
    "import json"
   ]
  },
  {
   "cell_type": "code",
   "execution_count": 2,
   "metadata": {},
   "outputs": [],
   "source": [
    "output_file = 'twosentencehorror.txt'"
   ]
  },
  {
   "cell_type": "code",
   "execution_count": 3,
   "metadata": {},
   "outputs": [],
   "source": [
    "def parse_raw_json(raw_filename):\n",
    "    with open('twosentencehorror_raw_top.json') as f:\n",
    "        posts_json = json.load(f)\n",
    "\n",
    "    posts_raw = []\n",
    "    for post in posts_json['data']:\n",
    "        if \"title\" in post and \"selftext\" in post:\n",
    "            posts_raw.append(post['title'] + '. ' + post['selftext'])\n",
    "\n",
    "    return posts_raw"
   ]
  },
  {
   "cell_type": "code",
   "execution_count": 4,
   "metadata": {},
   "outputs": [],
   "source": [
    "def append_to_output(posts, filename):\n",
    "    with open(filename, 'a') as f:\n",
    "        for post in posts:\n",
    "            f.write(post + '\\n')"
   ]
  },
  {
   "cell_type": "code",
   "execution_count": 5,
   "metadata": {},
   "outputs": [],
   "source": [
    "append_to_output(parse_raw_json('twosentencehorror_raw_top.json'), output_file)"
   ]
  },
  {
   "cell_type": "code",
   "execution_count": 6,
   "metadata": {},
   "outputs": [],
   "source": [
    "append_to_output(parse_raw_json('twosentencehorror_raw_58.json'), output_file)"
   ]
  },
  {
   "cell_type": "markdown",
   "metadata": {},
   "source": [
    "# User Markov chains"
   ]
  },
  {
   "cell_type": "code",
   "execution_count": 7,
   "metadata": {},
   "outputs": [],
   "source": [
    "import markovify"
   ]
  },
  {
   "cell_type": "code",
   "execution_count": 8,
   "metadata": {},
   "outputs": [],
   "source": [
    "with open(output_file) as f:\n",
    "    text = f.read()"
   ]
  },
  {
   "cell_type": "code",
   "execution_count": 10,
   "metadata": {},
   "outputs": [
    {
     "name": "stdout",
     "output_type": "stream",
     "text": [
      "As I entered my house to a barrage of screaming, I realized that I hadn’t seen his daughter all day.\n",
      "I just watched home videos of my daughter for the first time in years after the terrible fight we had in 2012..\n",
      "I was face to face with the man who had raped me, and what exactly he'd done to me..\n",
      "Overwhelmed with depression, I decide to end my life in the middle of the jungle, I couldn’t tell my crew that I wasn’t dead.\n",
      "A month or so later, I saw him on the news last night.\n",
      "Please mommy, I'm really sick, I need to go to the dermatologist after she noticed one of my pimples moving..\n",
      "I'm nearly asleep when I hear breathing; I think there's a monster in my closet and asked him to go check for me..\n",
      "Then he invited me into the back of our squad car..\n",
      "Now that I know what the voices in my head telling me to murder my wife..\n",
      "The judge ruled that for the rest of my room engulf in flames.\n",
      "I had my high school bully pinned to the ground and I start bleeding out for the 6th time..\n",
      "As I collapsed into total paralysis in the middle of the night, I heard Alexa speak..\n",
      "As I looked out the window at the growing crowd in the street below..\n",
      "I've been an exorcist for over 40 years, so I can tell you when you’re going to die..\n",
      "Despair set in as I realized we hadn't gotten far enough away from the playground, I forced her into the back of my van.\n",
      "I was face to face with the man who had raped me, and what exactly he'd done to me..\n",
      "As the bullet penetrates my chest, I fall to the ground and the more the crowd cheered, the harder I punched..\n",
      "I was video chatting and dropped my phone in horror upon receiving a message from my deceased friend..\n",
      "My family knew I wanted to be was a serial killer..\n",
      "Was eating that delicious bacon for the first time in forever, those glaring eyes disappeared from outside my bedroom window..\n",
      "The scary part wasn’t that all the lights in the back of the classroom pulled out a gun from his bag.\n",
      "I just watched home videos of my daughter for the first time in forever, those glaring eyes disappeared from outside my bedroom window..\n",
      "Overwhelmed with depression, I decide to end my life in the middle of the jungle, I couldn’t tell my crew that I wasn’t dead.\n"
     ]
    }
   ],
   "source": [
    "text_model = markovify.Text(text, state_size=4)\n",
    "\n",
    "generated = 0\n",
    "required = 23\n",
    "while True:\n",
    "    sentence = text_model.make_sentence()\n",
    "    if sentence:\n",
    "        generated+=1\n",
    "        print(sentence)\n",
    "    \n",
    "    if generated == required:\n",
    "        break"
   ]
  }
 ],
 "metadata": {
  "kernelspec": {
   "display_name": "Python 3",
   "language": "python",
   "name": "python3"
  },
  "language_info": {
   "codemirror_mode": {
    "name": "ipython",
    "version": 3
   },
   "file_extension": ".py",
   "mimetype": "text/x-python",
   "name": "python",
   "nbconvert_exporter": "python",
   "pygments_lexer": "ipython3",
   "version": "3.7.4"
  }
 },
 "nbformat": 4,
 "nbformat_minor": 4
}
